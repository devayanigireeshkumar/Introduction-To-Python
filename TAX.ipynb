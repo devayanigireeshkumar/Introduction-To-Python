{
  "nbformat": 4,
  "nbformat_minor": 0,
  "metadata": {
    "colab": {
      "name": "TAX",
      "provenance": []
    },
    "kernelspec": {
      "name": "python3",
      "display_name": "Python 3"
    },
    "language_info": {
      "name": "python"
    }
  },
  "cells": [
    {
      "cell_type": "code",
      "execution_count": null,
      "metadata": {
        "id": "vxCteB1cykMe"
      },
      "outputs": [],
      "source": [
        "x=20"
      ]
    },
    {
      "cell_type": "code",
      "source": [
        "if x>10 :\n",
        "  print(\"x>10\")"
      ],
      "metadata": {
        "colab": {
          "base_uri": "https://localhost:8080/"
        },
        "id": "6ZXOf_n_0Uyg",
        "outputId": "39de73bf-c0da-426f-d44f-707909f21fce"
      },
      "execution_count": null,
      "outputs": [
        {
          "output_type": "stream",
          "name": "stdout",
          "text": [
            "x>10\n"
          ]
        }
      ]
    },
    {
      "cell_type": "code",
      "source": [
        "x=20  \n",
        "if x>10:\n",
        "  print(\"x>10\")\n",
        "if x<10:\n",
        "  print(\"x<10\")\n",
        "if x==10:\n",
        "  print(\"x==10\")\n"
      ],
      "metadata": {
        "colab": {
          "base_uri": "https://localhost:8080/"
        },
        "id": "lmWkOqZ91ZPT",
        "outputId": "2dc9df4e-bff5-41cc-f37c-88a799f60809"
      },
      "execution_count": null,
      "outputs": [
        {
          "output_type": "stream",
          "name": "stdout",
          "text": [
            "x>10\n"
          ]
        }
      ]
    },
    {
      "cell_type": "code",
      "source": [
        "x=int(input(\"enter your name\"))\n",
        "\n",
        "\n",
        "if x>100:\n",
        "  print(\"Pass\")\n",
        "if x<100:\n",
        "  print(\"Fail\")\n",
        "if x==100:\n",
        "  print(\"Just Pass\")\n"
      ],
      "metadata": {
        "colab": {
          "base_uri": "https://localhost:8080/"
        },
        "id": "-YFbOp3b-NhN",
        "outputId": "2c7f5701-0f19-4b52-fc80-9951f7af7726"
      },
      "execution_count": 6,
      "outputs": [
        {
          "output_type": "stream",
          "name": "stdout",
          "text": [
            "enter your name40\n",
            "Fail\n"
          ]
        }
      ]
    },
    {
      "cell_type": "code",
      "source": [
        "x=int(input(\"enter the salary\"))\n",
        "if x>250000:\n",
        "  print(x*10/100)\n",
        "if  x<250000:\n",
        "  print('not taxable')\n",
        "\n"
      ],
      "metadata": {
        "id": "I6ay_4cd_Lyt",
        "colab": {
          "base_uri": "https://localhost:8080/"
        },
        "outputId": "7bf741df-b071-4d65-a57a-067c1c841403"
      },
      "execution_count": 18,
      "outputs": [
        {
          "output_type": "stream",
          "name": "stdout",
          "text": [
            "enter the salary300000\n",
            "30000.0\n"
          ]
        }
      ]
    },
    {
      "cell_type": "code",
      "source": [
        ""
      ],
      "metadata": {
        "id": "Xj8zeMRKCjJy"
      },
      "execution_count": null,
      "outputs": []
    }
  ]
}